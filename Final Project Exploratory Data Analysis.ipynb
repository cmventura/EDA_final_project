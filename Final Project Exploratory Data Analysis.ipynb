{
 "cells": [
  {
   "cell_type": "markdown",
   "metadata": {},
   "source": [
    "Chris Ventura<br>\n",
    "Final Project<br>\n",
    "Exploratory Data Analysis<br>\n",
    "\n",
    "Goal: <br>\n",
    "    <BLOCKQUOTE> To determine if a Medicare Advantage Health Plan's Medical Loss Ratio (MLR) can be predicted using publicly available information about the health plan's population (risk score, average monthly payment, county breakdown) and competitive market (market average risk score, market average monthly payment, market average payment rate).</BLOCKQUOTE>\n",
    "\n",
    "Background: <br>\n",
    "        <BLOCKQUOTE>MLR is a health plan's total health expenditure divided by a health plan's total premium revenue (there is a bit more that goes into how the numerator and denominator are derived, but I'll skip the details for now). This metric is typically how health plans determine profitability, and even how the government regulates markets (typically plans must spend at least 85% of their premium revenue on health delivery or improvement, or have an MLR of at least 0.85). Typically, health plans would like their MLR to be as close to .85 as possible. <br> <br>\n",
    "        For my project, I would like to determine the impact of market and population on a health plan's MLR. To do so, I will be using several publicly available files. I will use a plan's product and county membership makeup to aggregate all stats to the plan level. I will then use the plan level data to try to estimate a plan's MLR using linear regression. For the exploratory data analysis, I will try to get the data in working order by performing these aggregations, then visualize and examine possible features for my model, as well as assess any weak points or additional statistics I may want to incorporate.</BLOCKQUOTE>"
   ]
  },
  {
   "cell_type": "markdown",
   "metadata": {},
   "source": [
    "Section 0 - Import Libraries"
   ]
  },
  {
   "cell_type": "code",
   "execution_count": 5,
   "metadata": {
    "collapsed": true
   },
   "outputs": [],
   "source": [
    "import numpy as np\n",
    "import pandas as pd\n",
    "import matplotlib.pyplot as plt\n",
    "%matplotlib inline"
   ]
  },
  {
   "cell_type": "markdown",
   "metadata": {},
   "source": [
    "Section 1 - Import Various Datasets for analysis to create master dataset"
   ]
  },
  {
   "cell_type": "code",
   "execution_count": 3,
   "metadata": {
    "collapsed": false
   },
   "outputs": [
    {
     "name": "stdout",
     "output_type": "stream",
     "text": [
      "  contract_number  contract_year  \\\n",
      "0           H0028           2014   \n",
      "1           H0084           2014   \n",
      "2           H0104           2014   \n",
      "3           H0107           2014   \n",
      "4           H0108           2014   \n",
      "\n",
      "                                       organization  adjusted_MLR  \n",
      "0                                      CHA HMO INC.          0.96  \n",
      "1  CARE IMPROVEMENT PLUS OF TEXAS INSURANCE COMPANY          0.96  \n",
      "2                 Blue Cross Blue Shield of Alabama          0.92  \n",
      "3                   Health Care Service Corporation          1.02  \n",
      "4             HUMANA HEALTH PLAN OF CALIFORNIA INC.          0.99  \n",
      "  contract_number  plan_benefit_package contract_name plan_type  \\\n",
      "0           H0028                     1  CHA HMO INC.       HMO   \n",
      "1           H0028                     2  CHA HMO INC.       HMO   \n",
      "2           H0028                     3  CHA HMO INC.       HMO   \n",
      "3           H0028                     4  CHA HMO INC.       HMO   \n",
      "4           H0028                     5  CHA HMO INC.       HMO   \n",
      "\n",
      "   part_C_risk_score  average_C_payment  average_rebate  \n",
      "0               0.83             685.75           44.35  \n",
      "1               0.92             744.91           49.83  \n",
      "2               0.92             778.05           30.69  \n",
      "3               0.84             720.07           48.97  \n",
      "4               0.68             753.95           30.81  \n",
      "  county_code state   county     plan_type  snp_plan_type  part_C_risk_score  \\\n",
      "0       01000    AL  Autauga           HMO            NaN               0.93   \n",
      "1       01000    AL  Autauga           HMO  Dual-Eligible               1.24   \n",
      "2       01000    AL  Autauga     Local PPO            NaN               0.83   \n",
      "3       01000    AL  Autauga          PFFS            NaN               1.04   \n",
      "4       01000    AL  Autauga  Regional PPO            NaN               0.87   \n",
      "\n",
      "   average_C_payment  average_rebate  \n",
      "0             702.73           70.22  \n",
      "1             733.98           81.16  \n",
      "2             818.24           10.08  \n",
      "3             850.40            0.00  \n",
      "4             818.78           15.32  \n",
      "  Contract ID  Plan ID                        Organization Type  \\\n",
      "0       90091      NaN                         HCPP - 1833 Cost   \n",
      "1       E0654    801.0  Employer/Union Only Direct Contract PDP   \n",
      "2       E2332    801.0  Employer/Union Only Direct Contract PDP   \n",
      "3       E2630    801.0  Employer/Union Only Direct Contract PDP   \n",
      "4       E3014    801.0  Employer/Union Only Direct Contract PDP   \n",
      "\n",
      "                                 Plan Type Offers Part D SNP Plan EGHP  \\\n",
      "0                         HCPP - 1833 Cost            No       No   No   \n",
      "1  Employer/Union Only Direct Contract PDP           Yes       No  Yes   \n",
      "2  Employer/Union Only Direct Contract PDP           Yes       No  Yes   \n",
      "3  Employer/Union Only Direct Contract PDP           Yes       No  Yes   \n",
      "4  Employer/Union Only Direct Contract PDP           Yes       No  Yes   \n",
      "\n",
      "                                  Organization Name  \\\n",
      "0  UNITED MINE WORKERS OF AMERICA HLTH & RETIREMENT   \n",
      "1             IBT VOLUNTARY EMPLOYEE BENEFITS TRUST   \n",
      "2   NATIONAL RURAL ELECTRIC COOPERATIVE ASSOCIATION   \n",
      "3           C AND O EMPLOYEES' HOSPITAL ASSOCIATION   \n",
      "4                                 PSERS HOP PROGRAM   \n",
      "\n",
      "                         Organization Marketing Name  \\\n",
      "0  United Mine Workers of America Health & Retire...   \n",
      "1  TEAMStar Medicare Part D Prescription Drug Pro...   \n",
      "2    National Rural Electric Cooperative Association   \n",
      "3             C and O Employees Hospital Association   \n",
      "4  Pennsylvania Public School Employees Retiremen...   \n",
      "\n",
      "                                           Plan Name  \\\n",
      "0                                                NaN   \n",
      "1                            IBT VEBA (Employer PDP)   \n",
      "2          NRECA Medicare Part D Plan (Employer PDP)   \n",
      "3  C and O Employees Hospital Association (Employ...   \n",
      "4                           PSERS HOP (Employer PDP)   \n",
      "\n",
      "                                Parent Organization Contract Effective Date  \n",
      "0                  UMWA Health and Retirement Funds      02/01/1974 0:00:00  \n",
      "1             IBT Voluntary Employee Benefits Trust      01/01/2007 0:00:00  \n",
      "2   National Rural Electric Cooperative Association      01/01/2007 0:00:00  \n",
      "3             C & O Employees' Hospital Association      01/01/2007 0:00:00  \n",
      "4  Commonwealth of PA Pub Schools Retirement System      01/01/2007 0:00:00  \n",
      "132230\n",
      "  Contract Number  Plan ID                        Organization Type  \\\n",
      "0           90091      NaN                         HCPP - 1833 Cost   \n",
      "1           E0654    801.0  Employer/Union Only Direct Contract PDP   \n",
      "2           E2332    801.0  Employer/Union Only Direct Contract PDP   \n",
      "3           E2630    801.0  Employer/Union Only Direct Contract PDP   \n",
      "4           E3014    801.0  Employer/Union Only Direct Contract PDP   \n",
      "\n",
      "                                 Plan Type Offers Part D  \\\n",
      "0                         HCPP - 1833 Cost            No   \n",
      "1  Employer/Union Only Direct Contract PDP           Yes   \n",
      "2  Employer/Union Only Direct Contract PDP           Yes   \n",
      "3  Employer/Union Only Direct Contract PDP           Yes   \n",
      "4  Employer/Union Only Direct Contract PDP           Yes   \n",
      "\n",
      "                                  Organization Name  \\\n",
      "0  UNITED MINE WORKERS OF AMERICA HLTH & RETIREMENT   \n",
      "1             IBT VOLUNTARY EMPLOYEE BENEFITS TRUST   \n",
      "2   NATIONAL RURAL ELECTRIC COOPERATIVE ASSOCIATION   \n",
      "3           C AND O EMPLOYEES' HOSPITAL ASSOCIATION   \n",
      "4                                 PSERS HOP PROGRAM   \n",
      "\n",
      "                         Organization Marketing Name  \\\n",
      "0  United Mine Workers of America Health & Retire...   \n",
      "1  TEAMStar Medicare Part D Prescription Drug Pro...   \n",
      "2    National Rural Electric Cooperative Association   \n",
      "3             C and O Employees Hospital Association   \n",
      "4  Pennsylvania Public School Employees Retiremen...   \n",
      "\n",
      "                                           Plan Name  \\\n",
      "0                                                NaN   \n",
      "1                            IBT VEBA (Employer PDP)   \n",
      "2          NRECA Medicare Part D Plan (Employer PDP)   \n",
      "3  C and O Employees Hospital Association (Employ...   \n",
      "4                           PSERS HOP (Employer PDP)   \n",
      "\n",
      "                                Parent Organization Contract Effective Date  \\\n",
      "0                  UMWA Health and Retirement Funds      02/01/1974 0:00:00   \n",
      "1             IBT Voluntary Employee Benefits Trust      01/01/2007 0:00:00   \n",
      "2   National Rural Electric Cooperative Association      01/01/2007 0:00:00   \n",
      "3             C & O Employees' Hospital Association      01/01/2007 0:00:00   \n",
      "4  Commonwealth of PA Pub Schools Retirement System      01/01/2007 0:00:00   \n",
      "\n",
      "  Enrollment  \n",
      "0      25592  \n",
      "1      17370  \n",
      "2       7907  \n",
      "3       2166  \n",
      "4      65123  \n",
      "  State Name County Name  FIPSST  FIPSCNTY  FIPS  SSAST  SSACNTY    SSA  \\\n",
      "0    Alabama     Autauga       1       1.0  1001    1.0      0.0  01000   \n",
      "1    Alabama     Baldwin       1       3.0  1003    1.0     10.0  01010   \n",
      "2    Alabama     Barbour       1       5.0  1005    1.0     20.0  01020   \n",
      "3    Alabama        Bibb       1       7.0  1007    1.0     30.0  01030   \n",
      "4    Alabama      Blount       1       9.0  1009    1.0     40.0  01040   \n",
      "\n",
      "   Eligibles Enrolled  Penetration  \n",
      "0       9688     3080         0.32  \n",
      "1      43284    13751         0.32  \n",
      "2       6170      912         0.15  \n",
      "3       4685     1711         0.37  \n",
      "4      11486     4703         0.41  \n",
      "  Contract ID  Plan ID                        Organization Type  \\\n",
      "1       E0654    801.0  Employer/Union Only Direct Contract PDP   \n",
      "2       E2332    801.0  Employer/Union Only Direct Contract PDP   \n",
      "3       E2630    801.0  Employer/Union Only Direct Contract PDP   \n",
      "4       E3014    801.0  Employer/Union Only Direct Contract PDP   \n",
      "5       E4744    801.0  Employer/Union Only Direct Contract PDP   \n",
      "\n",
      "                                 Plan Type Offers Part D SNP Plan EGHP  \\\n",
      "1  Employer/Union Only Direct Contract PDP           Yes       No  Yes   \n",
      "2  Employer/Union Only Direct Contract PDP           Yes       No  Yes   \n",
      "3  Employer/Union Only Direct Contract PDP           Yes       No  Yes   \n",
      "4  Employer/Union Only Direct Contract PDP           Yes       No  Yes   \n",
      "5  Employer/Union Only Direct Contract PDP           Yes       No  Yes   \n",
      "\n",
      "                                 Organization Name  \\\n",
      "1            IBT VOLUNTARY EMPLOYEE BENEFITS TRUST   \n",
      "2  NATIONAL RURAL ELECTRIC COOPERATIVE ASSOCIATION   \n",
      "3          C AND O EMPLOYEES' HOSPITAL ASSOCIATION   \n",
      "4                                PSERS HOP PROGRAM   \n",
      "5       MODOT/MSHP MEDICAL AND LIFE INSURANCE PLAN   \n",
      "\n",
      "                         Organization Marketing Name  \\\n",
      "1  TEAMStar Medicare Part D Prescription Drug Pro...   \n",
      "2    National Rural Electric Cooperative Association   \n",
      "3             C and O Employees Hospital Association   \n",
      "4  Pennsylvania Public School Employees Retiremen...   \n",
      "5              MISSOURI DEPARTMENT OF TRANSPORTATION   \n",
      "\n",
      "                                           Plan Name  \\\n",
      "1                            IBT VEBA (Employer PDP)   \n",
      "2          NRECA Medicare Part D Plan (Employer PDP)   \n",
      "3  C and O Employees Hospital Association (Employ...   \n",
      "4                           PSERS HOP (Employer PDP)   \n",
      "5  Missouri Department of Transportaion/ Highway ...   \n",
      "\n",
      "                                Parent Organization Contract Effective Date  \n",
      "1             IBT Voluntary Employee Benefits Trust      01/01/2007 0:00:00  \n",
      "2   National Rural Electric Cooperative Association      01/01/2007 0:00:00  \n",
      "3             C & O Employees' Hospital Association      01/01/2007 0:00:00  \n",
      "4  Commonwealth of PA Pub Schools Retirement System      01/01/2007 0:00:00  \n",
      "5   Missouri Highways and Transportation Commission      01/01/2007 0:00:00  \n"
     ]
    }
   ],
   "source": [
    "# 1.1 - Plan Level MLR data (note, this is going to be my hub)\n",
    "# Note - I heavily edited this in excel to remove unnecessary columns (there were like 200)\n",
    "df_MLR = pd.read_csv(\"/Users/cventura/GitHub/final_project/final_datasets/Clean_2014_Plan_MLR.csv\")\n",
    "print df_MLR.head()\n",
    "# The contract number (commonly referred to as H code) will be how I join all datasets\n",
    "\n",
    "# 1.2 - Plan Level Risk Score\n",
    "df_PlanPartCRS = pd.read_csv(\"/Users/cventura/GitHub/final_project/final_datasets/Clean_2014_Plan_PartC_RS.csv\")\n",
    "print df_PlanPartCRS.head()\n",
    "\n",
    "# 1.3 - County Level Risk Score\n",
    "df_CountyPartCRS = pd.read_csv(\"/Users/cventura/GitHub/final_project/final_datasets/Clean_2014_County_PartC_RS.csv\", dtype={'county_code': np.str})\n",
    "print df_CountyPartCRS.head()\n",
    "\n",
    "# 1.4 - Contract Info\n",
    "df_ContractInfo = pd.read_csv(\"/Users/cventura/GitHub/final_project/final_datasets/CPSC_Contract_Info_2014_12.csv\")\n",
    "print df_ContractInfo.head()\n",
    "\n",
    "# 1.5 - County Plan Enrollment Info\n",
    "df_CountyPlanEnrollmentInfo = pd.read_csv(\"/Users/cventura/GitHub/final_project/final_datasets/CPSC_Enrollment_Info_2014_12.csv\", dtype={'SSA State County Code': np.str})\n",
    "df_CountyPlanEnrollmentInfo = df_CountyPlanEnrollmentInfo[df_CountyPlanEnrollmentInfo.Enrollment != '*']\n",
    "df_CountyPlanEnrollmentInfo = df_CountyPlanEnrollmentInfo[df_CountyPlanEnrollmentInfo['Plan ID'] != 999]\n",
    "print len(df_CountyPlanEnrollmentInfo)\n",
    "\n",
    "# 1.6 - Plan Enrollment Info\n",
    "df_PlanEnrollmentInfo = pd.read_csv(\"/Users/cventura/GitHub/final_project/final_datasets/Monthly_Report_By_Plan_2014_12.csv\")\n",
    "print df_PlanEnrollmentInfo.head()\n",
    "\n",
    "# 1.7 - State/County Penetration Rates\n",
    "df_countypen = pd.read_csv(\"/Users/cventura/GitHub/final_project/final_datasets/State_County_Penetration_MA_2014_12.csv\", dtype={'SSA': np.str})\n",
    "df_countypen['Penetration'].fillna(value=0.00, inplace = True)\n",
    "print df_countypen.head()\n",
    "\n",
    "# 1.8 - Plan PBP Detailed Info\n",
    "df_planPBPInfo = pd.read_csv(\"/Users/cventura/GitHub/final_project/final_datasets/CPSC_Contract_Info_2014_12.csv\")\n",
    "df_planPBPInfo = df_planPBPInfo.dropna()\n",
    "print df_planPBPInfo.head()"
   ]
  },
  {
   "cell_type": "markdown",
   "metadata": {},
   "source": [
    "Couple Notes:\n",
    "1. As stated above, the MLR table will serve as my hub.  The grain of this dataframe is one record per MCO Contract Number (also referred to as an \"H Code\" due to the first character of the field).\n",
    "2. Most of the files are at either a county level or a Plan Benefit Package (PBP) level.  A PBP is a variant of the product offered by the health plan.  One H Code may have multiple PBPs, but each PBP can only have on H Code.  Typically these products are very similar, but may have small differences, such as the type of drug coverage offered.\n",
    "3. The County Plan Enrollment table contains enrollment in each PBP by county.  I strip out records where the enrollment is a star (less than 10 enrolled, which means they cannot give the exact number due to some weird HIPAA bylaw) or where the PBP number is \"999\", which is a catch-all for incomplete information.  I will use this table in the coming steps to determine the percent of a plan's enrollment in each PBP and in each county to come up with weighted averages for risk scores, payment rates, etc."
   ]
  },
  {
   "cell_type": "markdown",
   "metadata": {},
   "source": [
    "Section 2 - Adjust data to same grain\n",
    "\n",
    "Note: <br>\n",
    "A couple of my joins cause some records from the original MLR table to fall out.  This is intentional - I validated that the records that drop are from specific types of plans whose information is not reported in the other files, and are not comparable to the other plans which we are analyzing."
   ]
  },
  {
   "cell_type": "code",
   "execution_count": 4,
   "metadata": {
    "collapsed": true
   },
   "outputs": [],
   "source": [
    "#2.1 - Create PBP and County Tables\n",
    "\n",
    "#   2.1.1 - Remove Counties with no enrollment and append SNP info\n",
    "    #Convert Enrollment to Numeric\n",
    "df_CountyPlanEnrollmentInfo['Enrollment'] = df_CountyPlanEnrollmentInfo['Enrollment'].apply(pd.to_numeric)\n",
    "    #Convert Plan_ID to Int\n",
    "df_planPBPInfo['Plan ID'] = df_planPBPInfo['Plan ID'].astype(int)\n",
    "    #Add additional is_SNP field.  SNPs(Special Needs Plans) attract a different membership\n",
    "    #and have a different risk score, I will use this when rolling up the values later\n",
    "df_planPBPInfo['is_SNP'] = df_planPBPInfo['SNP Plan'].apply(lambda x: 1 if x == 'Yes' else 0)\n",
    "    #Merge PBP info to county enrollment info\n",
    "df_CountyPlanEnrollmentInfo = df_CountyPlanEnrollmentInfo.merge(df_planPBPInfo, how= 'left', left_on = ['Contract Number', 'Plan ID'], right_on= ['Contract ID', 'Plan ID'])\n",
    "    #Calculate SNP-only enrollment\n",
    "df_CountyPlanEnrollmentInfo['snp_enrollment'] = df_CountyPlanEnrollmentInfo['is_SNP'] * df_CountyPlanEnrollmentInfo['Enrollment']\n",
    "\n",
    "#   2.1.2 - Count total enrollment by HCode\n",
    "df_PlanEnrollmentTotal = df_CountyPlanEnrollmentInfo.groupby('Contract Number')['Enrollment'].sum(\n",
    "        ).reset_index().rename(columns ={'Enrollment': 'total_enrollment'})\n",
    "\n",
    "#   2.1.3 - Count total enrollment by HCode/PBP and create PBP % of total ratio\n",
    "df_planPBPTotals = df_CountyPlanEnrollmentInfo.groupby(['Contract Number', 'Plan ID'])['Enrollment'].sum(\n",
    "        ).reset_index().rename(columns ={'Enrollment': 'pbp_enrollment'})\n",
    "\n",
    "df_planPBPTotals = df_planPBPTotals.merge(df_PlanEnrollmentTotal, left_on= 'Contract Number', right_on= 'Contract Number')\n",
    "    #Create pct ratio of each PBP to plan total - for plan level roll up\n",
    "df_planPBPTotals['PBP_pct_total'] = df_planPBPTotals['pbp_enrollment'] / df_planPBPTotals['total_enrollment']\n",
    "\n",
    "#   2.1.4 - Count total enrollment by HCode/county and create county % of total ratio\n",
    "df_plancountyTotals = df_CountyPlanEnrollmentInfo.groupby(['Contract Number', 'SSA State County Code'])[['Enrollment', 'snp_enrollment']].sum(\n",
    "        ).reset_index().rename(columns ={'Enrollment': 'county_enrollment', 'SSA State County Code': 'county_code', 'snp_enrollment': 'county_snp_enrollment'})\n",
    "\n",
    "df_plancountyTotals = df_plancountyTotals.merge(df_PlanEnrollmentTotal, left_on= 'Contract Number', right_on= 'Contract Number')\n",
    "    #Create county totals and snp percentages\n",
    "df_plancountyTotals['county_pct_total'] = df_plancountyTotals['county_enrollment'] / df_plancountyTotals['total_enrollment']\n",
    "df_plancountyTotals['county_snp_pct'] = df_plancountyTotals['county_snp_enrollment'] / df_plancountyTotals['county_enrollment']\n",
    "\n",
    "#2.2 - Aggregate data to plan level using county/pbp pcts\n",
    "\n",
    "#   2.2.1 Generate Plan level Risk Scores/Avg Payment and attach to hub\n",
    "df_planRS_merge = df_PlanPartCRS.merge(df_planPBPTotals, left_on= ['contract_number', 'plan_benefit_package'],\\\n",
    "                                 right_on= ['Contract Number', 'Plan ID'])\n",
    "    #Multiply risk score and average payments by PBP percentages\n",
    "df_planRS_merge['RSxPct'] = df_planRS_merge['part_C_risk_score'] * df_planRS_merge['PBP_pct_total']\n",
    "df_planRS_merge['AvgCPymtxPct'] = df_planRS_merge['average_C_payment'] * df_planRS_merge['PBP_pct_total']\n",
    "    #Roll up values from previous step to creat plan-level risk score and payment\n",
    "df_planRS_contract = df_planRS_merge.groupby(['contract_number', 'plan_type'])['RSxPct', 'AvgCPymtxPct', 'total_enrollment'].sum(\n",
    "        ).reset_index().rename(columns ={'RSxPct': 'risk_score', 'AvgCPymtxPct': 'avg_payment'})\n",
    "    #Attach plan level values to MLR df\n",
    "df_MLR = df_MLR.merge(df_planRS_contract, left_on= ['contract_number'], right_on= ['contract_number'])\n",
    "\n",
    "#   2.2.2 Use county level data to create \"market\" numbers and attach to hub\n",
    "    #Risk scores for SNP plans (see step 2.1.1) are listed separately in the county file\n",
    "    #I separate out the SNP risk scores into a separate colup so that I can weight the risk scores\n",
    "    #by a plan's SNP percentage in a future step\n",
    "df_CountyPartCRS['is_SNP'] = df_CountyPartCRS['snp_plan_type'].apply(lambda x: 1 if pd.notnull(x) == True else 0)\n",
    "df_CountyPartCRS['rs_nonSNP'] = (1 - df_CountyPartCRS['is_SNP']) * df_CountyPartCRS['part_C_risk_score']\n",
    "df_CountyPartCRS['rs_SNP'] = df_CountyPartCRS['is_SNP'] * df_CountyPartCRS['part_C_risk_score']\n",
    "df_CountyPartCRS['avg_pymt_nonSNP'] = (1 - df_CountyPartCRS['is_SNP']) * df_CountyPartCRS['average_C_payment']\n",
    "df_CountyPartCRS['avg_pymt_SNP'] = df_CountyPartCRS['is_SNP'] * df_CountyPartCRS['average_C_payment']\n",
    "    #roll up SNP and non-SNP risk scores by county code and plan type\n",
    "df_CountyPartCRS_agg = df_CountyPartCRS.groupby(['county_code', 'plan_type'])[['rs_nonSNP', 'avg_pymt_nonSNP', 'rs_SNP', 'avg_pymt_SNP']].max(\n",
    "        ).reset_index()\n",
    "    #Grab plan type from MLR file\n",
    "df_plancountyTotals = df_plancountyTotals.merge(df_MLR[['contract_number', 'plan_type']], left_on= 'Contract Number', right_on= 'contract_number')\n",
    "    #Merge plan county file with county risk score file and penetration rate file\n",
    "df_plancounty_countyCRS = df_plancountyTotals.merge(df_CountyPartCRS_agg,left_on= ['county_code', 'plan_type'],\\\n",
    "                                                    right_on= ['county_code', 'plan_type'])\n",
    "df_plancounty_countyCRS = df_plancounty_countyCRS.merge(df_countypen[['SSA', 'Penetration']], how= 'left', left_on='county_code', right_on='SSA') \n",
    "df_plancounty_countyCRS['Penetration'].fillna(value=0.00, inplace = True)\n",
    "    #Use Plan SNP percentages to come up with county risk score based on plan's SNP percentage\n",
    "df_plancounty_countyCRS['county_rs'] = (df_plancounty_countyCRS['rs_nonSNP'] * (\n",
    "        1 - df_plancounty_countyCRS['county_snp_pct'])) +  (df_plancounty_countyCRS['rs_SNP'] * (\n",
    "        df_plancounty_countyCRS['county_snp_pct']))\n",
    "df_plancounty_countyCRS['county_avg_pymt'] = (df_plancounty_countyCRS['avg_pymt_nonSNP'] * (\n",
    "        1 - df_plancounty_countyCRS['county_snp_pct'])) +  (df_plancounty_countyCRS['avg_pymt_SNP'] * (\n",
    "        df_plancounty_countyCRS['county_snp_pct']))\n",
    "    #Multiply county values by county makeup percentages\n",
    "df_plancounty_countyCRS['county_rsxpct'] = df_plancounty_countyCRS['county_rs'] * df_plancounty_countyCRS['county_pct_total']\n",
    "df_plancounty_countyCRS['county_avg_pymtxpct'] = df_plancounty_countyCRS['county_avg_pymt'] * df_plancounty_countyCRS['county_pct_total']\n",
    "df_plancounty_countyCRS['county_avg_penxpct'] = df_plancounty_countyCRS['Penetration'] * df_plancounty_countyCRS['county_pct_total']\n",
    "    #Aggregate values to plan level to come up with market factors\n",
    "df_plan_market_agg = df_plancounty_countyCRS.groupby(['contract_number'])[['county_rsxpct', 'county_avg_pymtxpct', 'county_avg_penxpct']].sum(\n",
    "        ).reset_index().rename(columns ={'county_rsxpct': 'market_risk_score', 'county_avg_pymtxpct': 'market_avg_payment', 'county_avg_penxpct' : 'market_avg_pen'})\n",
    "    #Merge to MLR file\n",
    "df_MLR = df_MLR.merge(df_plan_market_agg, how= 'left', left_on= ['contract_number'], right_on= ['contract_number'])"
   ]
  },
  {
   "cell_type": "markdown",
   "metadata": {},
   "source": [
    "Section 3 - Visualize the data/Calculate Correlations"
   ]
  },
  {
   "cell_type": "code",
   "execution_count": 6,
   "metadata": {
    "collapsed": false
   },
   "outputs": [
    {
     "name": "stdout",
     "output_type": "stream",
     "text": [
      "       contract_year  adjusted_MLR  risk_score  avg_payment  total_enrollment  \\\n",
      "count          418.0    418.000000  418.000000   418.000000      4.180000e+02   \n",
      "mean          2014.0      0.939809    0.997687   739.397738      5.692574e+05   \n",
      "std              0.0      0.076142    0.195094    85.182584      2.748421e+06   \n",
      "min           2014.0      0.730000    0.533130   326.130567      1.620000e+02   \n",
      "25%           2014.0      0.890000    0.884065   701.132990      1.423550e+04   \n",
      "50%           2014.0      0.920000    0.962974   748.424524      6.527200e+04   \n",
      "75%           2014.0      0.970000    1.071438   793.545458      2.485422e+05   \n",
      "max           2014.0      1.430000    2.485333   915.780000      3.144154e+07   \n",
      "\n",
      "       market_risk_score  market_avg_payment  market_avg_pen  \n",
      "count         418.000000          418.000000      418.000000  \n",
      "mean            1.082035          754.897884        0.355584  \n",
      "std             0.314711           80.321708        0.125999  \n",
      "min             0.532038          316.985649        0.020000  \n",
      "25%             0.902743          723.788367        0.275574  \n",
      "50%             0.971369          762.658656        0.345886  \n",
      "75%             1.131064          795.105155        0.423850  \n",
      "max             2.594876          958.689927        0.759475  \n"
     ]
    },
    {
     "data": {
      "image/png": "[encoded data removed]",
      "text/plain": [
       "<matplotlib.figure.Figure at 0x121bbd550>"
      ]
     },
     "metadata": {},
     "output_type": "display_data"
    },
    {
     "name": "stdout",
     "output_type": "stream",
     "text": [
      "                adjusted_MLR  market_avg_pen\n",
      "adjusted_MLR        1.000000       -0.058534\n",
      "market_avg_pen     -0.058534        1.000000\n"
     ]
    },
    {
     "data": {
      "image/png": "[encoded data removed]",
      "text/plain": [
       "<matplotlib.figure.Figure at 0x118d00b90>"
      ]
     },
     "metadata": {},
     "output_type": "display_data"
    },
    {
     "name": "stdout",
     "output_type": "stream",
     "text": [
      "              adjusted_MLR  risk_score\n",
      "adjusted_MLR      1.000000   -0.146027\n",
      "risk_score       -0.146027    1.000000\n"
     ]
    },
    {
     "data": {
      "image/png": "[encoded data removed]",
      "text/plain": [
       "<matplotlib.figure.Figure at 0x1186e2f90>"
      ]
     },
     "metadata": {},
     "output_type": "display_data"
    },
    {
     "name": "stdout",
     "output_type": "stream",
     "text": [
      "                 adjusted_MLR  risk_score_diff\n",
      "adjusted_MLR         1.000000        -0.090442\n",
      "risk_score_diff     -0.090442         1.000000\n"
     ]
    },
    {
     "data": {
      "image/png": "[encoded data removed]",
      "text/plain": [
       "<matplotlib.figure.Figure at 0x11e47ced0>"
      ]
     },
     "metadata": {},
     "output_type": "display_data"
    },
    {
     "name": "stdout",
     "output_type": "stream",
     "text": [
      "                   adjusted_MLR  market_risk_score\n",
      "adjusted_MLR           1.000000          -0.028485\n",
      "market_risk_score     -0.028485           1.000000\n"
     ]
    },
    {
     "data": {
      "image/png": "[encoded data removed]",
      "text/plain": [
       "<matplotlib.figure.Figure at 0x118ab1cd0>"
      ]
     },
     "metadata": {},
     "output_type": "display_data"
    },
    {
     "name": "stdout",
     "output_type": "stream",
     "text": [
      "                    adjusted_MLR  market_avg_payment\n",
      "adjusted_MLR             1.00000            -0.10077\n",
      "market_avg_payment      -0.10077             1.00000\n"
     ]
    },
    {
     "data": {
      "image/png": "[encoded data removed]",
      "text/plain": [
       "<matplotlib.figure.Figure at 0x118ab1d50>"
      ]
     },
     "metadata": {},
     "output_type": "display_data"
    },
    {
     "name": "stdout",
     "output_type": "stream",
     "text": [
      "              adjusted_MLR  payment_diff\n",
      "adjusted_MLR      1.000000     -0.100239\n",
      "payment_diff     -0.100239      1.000000\n",
      "                    contract_year  adjusted_MLR  risk_score  avg_payment  \\\n",
      "contract_year                 NaN           NaN         NaN          NaN   \n",
      "adjusted_MLR                  NaN      1.000000   -0.146027    -0.144339   \n",
      "risk_score                    NaN     -0.146027    1.000000    -0.031153   \n",
      "avg_payment                   NaN     -0.144339   -0.031153     1.000000   \n",
      "total_enrollment              NaN     -0.019495    0.016485     0.073043   \n",
      "market_risk_score             NaN     -0.028485    0.737005     0.043455   \n",
      "market_avg_payment            NaN     -0.100770   -0.024937     0.873356   \n",
      "market_avg_pen                NaN     -0.058534    0.254847    -0.428616   \n",
      "risk_score_diff               NaN     -0.090442   -0.170698    -0.091503   \n",
      "payment_diff                  NaN     -0.100239   -0.015525     0.358682   \n",
      "\n",
      "                    total_enrollment  market_risk_score  market_avg_payment  \\\n",
      "contract_year                    NaN                NaN                 NaN   \n",
      "adjusted_MLR               -0.019495          -0.028485           -0.100770   \n",
      "risk_score                  0.016485           0.737005           -0.024937   \n",
      "avg_payment                 0.073043           0.043455            0.873356   \n",
      "total_enrollment            1.000000          -0.026042            0.026191   \n",
      "market_risk_score          -0.026042           1.000000            0.187401   \n",
      "market_avg_payment          0.026191           0.187401            1.000000   \n",
      "market_avg_pen              0.042388           0.218491           -0.392356   \n",
      "risk_score_diff             0.052862          -0.791772           -0.295734   \n",
      "payment_diff                0.098262          -0.270823           -0.141414   \n",
      "\n",
      "                    market_avg_pen  risk_score_diff  payment_diff  \n",
      "contract_year                  NaN              NaN           NaN  \n",
      "adjusted_MLR             -0.058534        -0.090442     -0.100239  \n",
      "risk_score                0.254847        -0.170698     -0.015525  \n",
      "avg_payment              -0.428616        -0.091503      0.358682  \n",
      "total_enrollment          0.042388         0.052862      0.098262  \n",
      "market_risk_score         0.218491        -0.791772     -0.270823  \n",
      "market_avg_payment       -0.392356        -0.295734     -0.141414  \n",
      "market_avg_pen            1.000000        -0.088209     -0.119200  \n",
      "risk_score_diff          -0.088209         1.000000      0.380781  \n",
      "payment_diff             -0.119200         0.380781      1.000000  \n"
     ]
    }
   ],
   "source": [
    "print df_MLR.describe()\n",
    "\n",
    "#Graph Penetration Rate x MLR             \n",
    "x = df_MLR['market_avg_pen']\n",
    "y = df_MLR['adjusted_MLR']\n",
    "fig, ax = plt.subplots()\n",
    "fit = np.polyfit(x, y, deg=1)\n",
    "ax.plot(x, fit[0] * x + fit[1], color='red')\n",
    "ax.scatter(x, y, s=1, c='blue', alpha=0.5)\n",
    "plt.ylim([0.80,1.20])\n",
    "plt.show()\n",
    "\n",
    "print df_MLR[['adjusted_MLR', 'market_avg_pen']].corr()\n",
    "\n",
    "#Graph Risk Score x MLR             \n",
    "x = df_MLR['risk_score']\n",
    "y = df_MLR['adjusted_MLR']\n",
    "fig, ax = plt.subplots()\n",
    "fit = np.polyfit(x, y, deg=1)\n",
    "ax.plot(x, fit[0] * x + fit[1], color='red')\n",
    "ax.scatter(x, y, s=1, c='blue', alpha=0.5)\n",
    "plt.ylim([0.80,1.20])\n",
    "plt.show()\n",
    "\n",
    "print df_MLR[['adjusted_MLR', 'risk_score']].corr()\n",
    "#Somewhat of a correlation, let me try to look at the difference between the risk score and market avg\n",
    "df_MLR['risk_score_diff'] = df_MLR['risk_score'] - df_MLR['market_risk_score']\n",
    "\n",
    "#Graph Risk Score Diff x MLR             \n",
    "x = df_MLR['risk_score_diff']\n",
    "y = df_MLR['adjusted_MLR']\n",
    "fig, ax = plt.subplots()\n",
    "fit = np.polyfit(x, y, deg=1)\n",
    "ax.plot(x, fit[0] * x + fit[1], color='red')\n",
    "ax.scatter(x, y, s=1, c='blue', alpha=0.5)\n",
    "plt.ylim([0.80,1.20])\n",
    "plt.show()\n",
    "\n",
    "print df_MLR[['adjusted_MLR', 'risk_score_diff']].corr()\n",
    "\n",
    "#Graph Market Risk Score x MLR             \n",
    "x = df_MLR['market_risk_score']\n",
    "y = df_MLR['adjusted_MLR']\n",
    "fig, ax = plt.subplots()\n",
    "fit = np.polyfit(x, y, deg=1)\n",
    "ax.plot(x, fit[0] * x + fit[1], color='red')\n",
    "ax.scatter(x, y, s=1, c='blue', alpha=0.5)\n",
    "plt.ylim([0.80,1.20])\n",
    "plt.show()\n",
    "\n",
    "print df_MLR[['adjusted_MLR', 'market_risk_score']].corr()\n",
    "\n",
    "#Graph Market Avg. Payment x MLR  \n",
    "x = df_MLR['market_avg_payment']\n",
    "y = df_MLR['adjusted_MLR']\n",
    "fig, ax = plt.subplots()\n",
    "fit = np.polyfit(x, y, deg=1)\n",
    "ax.plot(x, fit[0] * x + fit[1], color='red')\n",
    "ax.scatter(x, y, s=1, c='blue', alpha=0.5)\n",
    "plt.ylim([0.80,1.20])\n",
    "plt.show()\n",
    "\n",
    "print df_MLR[['adjusted_MLR', 'market_avg_payment']].corr()\n",
    "\n",
    "#Somewhat of a correlation, let me try to look at the difference between the market avg pymt and market avg\n",
    "df_MLR['payment_diff'] = df_MLR['avg_payment'] - df_MLR['market_avg_payment']\n",
    "\n",
    "#Graph Payment Diff x MLR  \n",
    "x = df_MLR['payment_diff']\n",
    "y = df_MLR['adjusted_MLR']\n",
    "fig, ax = plt.subplots()\n",
    "fit = np.polyfit(x, y, deg=1)\n",
    "ax.plot(x, fit[0] * x + fit[1], color='red')\n",
    "ax.scatter(x, y, s=1, c='blue', alpha=0.5)\n",
    "plt.ylim([0.80,1.20])\n",
    "plt.show()\n",
    "\n",
    "print df_MLR[['adjusted_MLR', 'payment_diff']].corr()\n",
    "\n",
    "#Look at Correlation Matrix to help in feature selection\n",
    "print df_MLR.corr()"
   ]
  },
  {
   "cell_type": "markdown",
   "metadata": {},
   "source": [
    "Biggest Takeaway:<br>\n",
    "MLR seems to have a fairly wide distribution.  However, on the surface, no factor seems to have significant correlation on its own.\n",
    "<br> <br>\n",
    "Next:<br>\n",
    "Below I set up a random forest and a very crude linear regression.  Neither of them perform particularly well, but just wanted to start testing things out.  Stay tuned after the models to see what I plan to do next."
   ]
  },
  {
   "cell_type": "markdown",
   "metadata": {},
   "source": [
    "Section 4 - Crude Model Testing"
   ]
  },
  {
   "cell_type": "code",
   "execution_count": 9,
   "metadata": {
    "collapsed": false
   },
   "outputs": [
    {
     "name": "stdout",
     "output_type": "stream",
     "text": [
      "         Features  Importance Score\n",
      "0      risk_score          0.289430\n",
      "3    payment_diff          0.242482\n",
      "2  market_avg_pen          0.241629\n",
      "1     avg_payment          0.226459\n",
      "Average AUC 0.604870\n",
      "Average MSE -0.005626\n"
     ]
    }
   ],
   "source": [
    "from sklearn.ensemble import RandomForestClassifier\n",
    "df_MLR['is_profitable'] = df_MLR['adjusted_MLR'].apply(lambda x: 1 if x < 1 else 0)\n",
    "predictors = ['risk_score', 'avg_payment', 'market_avg_pen', 'payment_diff']\n",
    "X = df_MLR[predictors]\n",
    "y= df_MLR['is_profitable']\n",
    "model = RandomForestClassifier(n_estimators = 20)   \n",
    "model.fit(X, y)\n",
    "features = predictors\n",
    "feature_importances = model.feature_importances_\n",
    "features_df = pd.DataFrame({'Features': features, 'Importance Score': feature_importances})\n",
    "features_df.sort_values('Importance Score', inplace=True, ascending=False)\n",
    "\n",
    "print features_df.head()\n",
    "\n",
    "from sklearn import cross_validation\n",
    "kfold = cross_validation.KFold(len(X), n_folds=10)\n",
    "scores = cross_validation.cross_val_score(model, X, y, cv=kfold,scoring='roc_auc')\n",
    "print 'Average AUC %f' % scores.mean()\n",
    "\n",
    "\n",
    "\n",
    "\n",
    "from sklearn.linear_model import LinearRegression\n",
    "predictors = ['avg_payment', 'risk_score_diff', 'market_avg_pen']\n",
    "X = df_MLR[predictors]\n",
    "y= df_MLR['adjusted_MLR']\n",
    "model = LinearRegression()\n",
    "model.fit(X, y)\n",
    "\n",
    "scores = cross_validation.cross_val_score(model, X, y, cv=kfold,scoring='neg_mean_squared_error')\n",
    "print 'Average MSE %f' % scores.mean()"
   ]
  },
  {
   "cell_type": "markdown",
   "metadata": {},
   "source": [
    "Next Steps:\n",
    "1. Create dummy variables for incorporation based on plan characteristics such as plan network type, organization type and plan size\n",
    "2. Incorporate plan quality file.  I originally intended to include this, but thought I wasn't going to be able to make it work.  I discussed with a coworker today and determined a plan to incorporate, but didn't have time to do so before this first deadline.  Happy to share when incorporated."
   ]
  },
  {
   "cell_type": "code",
   "execution_count": null,
   "metadata": {
    "collapsed": true
   },
   "outputs": [],
   "source": []
  }
 ],
 "metadata": {
  "kernelspec": {
   "display_name": "Python 2",
   "language": "python",
   "name": "python2"
  },
  "language_info": {
   "codemirror_mode": {
    "name": "ipython",
    "version": 2
   },
   "file_extension": ".py",
   "mimetype": "text/x-python",
   "name": "python",
   "nbconvert_exporter": "python",
   "pygments_lexer": "ipython2",
   "version": "2.7.13"
  }
 },
 "nbformat": 4,
 "nbformat_minor": 2
}
